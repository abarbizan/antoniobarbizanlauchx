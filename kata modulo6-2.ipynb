{
 "cells": [
  {
   "cell_type": "code",
   "execution_count": 78,
   "metadata": {},
   "outputs": [],
   "source": [
    "planets = ['Mercury', 'VENUS', 'EARTH', 'MARS', 'JUPITER', 'SATURN', 'NEPTUNE']\n"
   ]
  },
  {
   "cell_type": "code",
   "execution_count": 79,
   "metadata": {},
   "outputs": [],
   "source": [
    "nombre_planeta= input (\"para comenzar ingresa el nombre de un planeta (con letra mayuscula)\" )"
   ]
  },
  {
   "cell_type": "code",
   "execution_count": 80,
   "metadata": {},
   "outputs": [],
   "source": [
    "planets_indice = planets.index ( nombre_planeta )\n"
   ]
  },
  {
   "cell_type": "code",
   "execution_count": 81,
   "metadata": {},
   "outputs": [
    {
     "name": "stdout",
     "output_type": "stream",
     "text": [
      "los planetas mas cerca MARS\n",
      "['Mercury', 'VENUS', 'EARTH']\n"
     ]
    }
   ],
   "source": [
    "print('los planetas mas cerca ' + nombre_planeta)\n",
    "print(planets[0:planets_indice])\n"
   ]
  },
  {
   "cell_type": "code",
   "execution_count": 82,
   "metadata": {},
   "outputs": [
    {
     "name": "stdout",
     "output_type": "stream",
     "text": [
      "los planetas más lejos MARS\n",
      "['JUPITER', 'SATURN', 'NEPTUNE']\n"
     ]
    }
   ],
   "source": [
    "print('los planetas más lejos ' + nombre_planeta)\n",
    "print(planets[planets_indice + 1:])\n"
   ]
  }
 ],
 "metadata": {
  "interpreter": {
   "hash": "aee8b7b246df8f9039afb4144a1f6fd8d2ca17a180786b69acc140d282b71a49"
  },
  "kernelspec": {
   "display_name": "Python 3.10.2 64-bit",
   "language": "python",
   "name": "python3"
  },
  "language_info": {
   "codemirror_mode": {
    "name": "ipython",
    "version": 3
   },
   "file_extension": ".py",
   "mimetype": "text/x-python",
   "name": "python",
   "nbconvert_exporter": "python",
   "pygments_lexer": "ipython3",
   "version": "3.10.2"
  },
  "orig_nbformat": 4
 },
 "nbformat": 4,
 "nbformat_minor": 2
}
