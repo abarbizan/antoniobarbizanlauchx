{
 "cells": [
  {
   "cell_type": "code",
   "execution_count": 42,
   "metadata": {},
   "outputs": [
    {
     "name": "stdout",
     "output_type": "stream",
     "text": [
      "no salvamos por un pelo\n"
     ]
    }
   ],
   "source": [
    "asteroide = 23\n",
    "advertencia  = 26\n",
    "if asteroide > advertencia:\n",
    "    print(\"¡ya valio! don´t look up\")\n",
    "elif asteroide < advertencia:\n",
    "    print(\"no salvamos por un pelo\")\n"
   ]
  },
  {
   "cell_type": "code",
   "execution_count": 13,
   "metadata": {},
   "outputs": [
    {
     "name": "stdout",
     "output_type": "stream",
     "text": [
      "no te preocupes, sigue viendo el tus pies \n"
     ]
    }
   ],
   "source": [
    "asteroide = 19\n",
    "buscar = 20\n",
    "if asteroide >= buscar:\n",
    "    print(\"mira arriba un asteroide\")\n",
    "elif asteroide < buscar:\n",
    "    print (\"no te preocupes, sigue viendo el tus pies \")\n",
    "else:\n",
    "    print(\" oh busca una luz en el cielo\")\n"
   ]
  },
  {
   "cell_type": "code",
   "execution_count": 23,
   "metadata": {},
   "outputs": [
    {
     "ename": "SyntaxError",
     "evalue": "invalid syntax (359586581.py, line 3)",
     "output_type": "error",
     "traceback": [
      "\u001b[0;36m  Input \u001b[0;32mIn [23]\u001b[0;36m\u001b[0m\n\u001b[0;31m    if velocidad >= 25 or tamaño: >= 25:\u001b[0m\n\u001b[0m                                  ^\u001b[0m\n\u001b[0;31mSyntaxError\u001b[0m\u001b[0;31m:\u001b[0m invalid syntax\n"
     ]
    }
   ],
   "source": [
    "velocidad = 25\n",
    "tamaño = 26\n",
    "if velocidad >= 25 or tamaño: >= 25:\n",
    "print(\"sigue tu vida\")"
   ]
  },
  {
   "cell_type": "code",
   "execution_count": 40,
   "metadata": {},
   "outputs": [
    {
     "name": "stdout",
     "output_type": "stream",
     "text": [
      "sigue tu vida\n"
     ]
    }
   ],
   "source": [
    "velocidad =19\n",
    "tamaño = 19\n",
    "if velocidad >= 25 and tamaño >=25:\n",
    "    print(\"Peligro\")\n",
    "\n",
    "elif velocidad >= 20:\n",
    "    print(\"Mira arriba y encuentra la luz \")\n",
    "\n",
    "elif  tamaño < 20:\n",
    "    print((\"sigue tu vida\"))\n",
    "else: print(\"sigue tu vida\")\n"
   ]
  }
 ],
 "metadata": {
  "interpreter": {
   "hash": "aee8b7b246df8f9039afb4144a1f6fd8d2ca17a180786b69acc140d282b71a49"
  },
  "kernelspec": {
   "display_name": "Python 3.10.2 64-bit",
   "language": "python",
   "name": "python3"
  },
  "language_info": {
   "codemirror_mode": {
    "name": "ipython",
    "version": 3
   },
   "file_extension": ".py",
   "mimetype": "text/x-python",
   "name": "python",
   "nbconvert_exporter": "python",
   "pygments_lexer": "ipython3",
   "version": "3.10.2"
  },
  "orig_nbformat": 4
 },
 "nbformat": 4,
 "nbformat_minor": 2
}
