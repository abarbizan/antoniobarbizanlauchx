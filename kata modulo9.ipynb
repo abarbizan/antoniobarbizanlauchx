{
 "cells": [
  {
   "cell_type": "code",
   "execution_count": 41,
   "metadata": {},
   "outputs": [],
   "source": [
    "def informes(combustible_uno, combustible_dos, combustible_tres):\n",
    "    total_average = (combustible_uno + combustible_dos + combustible_tres) / 3\n",
    "    return f\"\"\" Reporte:\n",
    "    promedio: {total_average}%\n",
    "    combustible uno: {combustible_uno}%\n",
    "    combustible dos: {combustible_dos}%\n",
    "    combustible tres: {combustible_tres}% \n",
    "    \"\"\""
   ]
  },
  {
   "cell_type": "code",
   "execution_count": 42,
   "metadata": {},
   "outputs": [
    {
     "name": "stdout",
     "output_type": "stream",
     "text": [
      " Reporte:\n",
      "    promedio: 50.0%\n",
      "    combustible uno: 50%\n",
      "    combustible dos: 50%\n",
      "    combustible tres: 50% \n",
      "    \n"
     ]
    }
   ],
   "source": [
    "print(informes(50, 50, 50))\n"
   ]
  },
  {
   "cell_type": "code",
   "execution_count": 43,
   "metadata": {},
   "outputs": [
    {
     "data": {
      "text/plain": [
       "50.0"
      ]
     },
     "execution_count": 43,
     "metadata": {},
     "output_type": "execute_result"
    }
   ],
   "source": [
    "def promedio(values):\n",
    "    total = sum(values)\n",
    "    number_of_items = len(values)\n",
    "    return total / number_of_items\n",
    "\n",
    "promedio([50, 50, 50])\n"
   ]
  },
  {
   "cell_type": "code",
   "execution_count": 44,
   "metadata": {},
   "outputs": [
    {
     "name": "stdout",
     "output_type": "stream",
     "text": [
      "Fuel Report:\n",
      "    promedio: 50.0%\n",
      "    combustible uno: 50%\n",
      "    combustible dos: 50%\n",
      "    combustible tres: 50% \n"
     ]
    }
   ],
   "source": [
    "def informes(combustible_uno, combustible_dos, combustible_tres):\n",
    "    return f\"\"\"Fuel Report:\n",
    "    promedio: {promedio([combustible_uno, combustible_dos, combustible_tres])}%\n",
    "    combustible uno: {combustible_uno}%\n",
    "    combustible dos: {combustible_dos}%\n",
    "    combustible tres: {combustible_tres}% \"\"\"\n",
    "print(informes(50, 50, 50))\n"
   ]
  }
 ],
 "metadata": {
  "interpreter": {
   "hash": "aee8b7b246df8f9039afb4144a1f6fd8d2ca17a180786b69acc140d282b71a49"
  },
  "kernelspec": {
   "display_name": "Python 3.10.2 64-bit",
   "language": "python",
   "name": "python3"
  },
  "language_info": {
   "codemirror_mode": {
    "name": "ipython",
    "version": 3
   },
   "file_extension": ".py",
   "mimetype": "text/x-python",
   "name": "python",
   "nbconvert_exporter": "python",
   "pygments_lexer": "ipython3",
   "version": "3.10.2"
  },
  "orig_nbformat": 4
 },
 "nbformat": 4,
 "nbformat_minor": 2
}
